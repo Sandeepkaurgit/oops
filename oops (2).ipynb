{
 "cells": [
  {
   "cell_type": "code",
   "execution_count": null,
   "id": "fbde0a6f-0fd9-47d4-85ee-c7fe23f414ae",
   "metadata": {},
   "outputs": [],
   "source": [
    "# 1) what is object oriented programming?\n",
    "# Object-oriented programming (OOP) is a programming paradigm that organizes software around objects, rather than functions or logic. Objects encapsulate data (attributes) and code (methods) that operate on that data, promoting code reusability and organization. Instead of focusing on the step-by-step instructions of procedural programming, OOP focuses on the \"what\" (objects) and the \"how\" (methods) that interact with them. \n"
   ]
  },
  {
   "cell_type": "code",
   "execution_count": null,
   "id": "77311b67-0930-42fd-8837-7853b402991c",
   "metadata": {},
   "outputs": [],
   "source": [
    "#2) what is class in oop?\n",
    "# class is a blueprint or template for creating object.in oop classes have an object to clarify things.\n"
   ]
  },
  {
   "cell_type": "code",
   "execution_count": null,
   "id": "3c8bab35-6d9e-467f-97fe-b1591b3f216a",
   "metadata": {},
   "outputs": [],
   "source": [
    "# 3) what is an object in oop?\n",
    "# An object is a component of a program that knows how to perform certain actions and how to interact with other elements of the program. Objects are the basic units of object-oriented programming. A simple example of an object would be a person.\n",
    "\n"
   ]
  },
  {
   "cell_type": "code",
   "execution_count": null,
   "id": "b5493b94-9997-4463-9441-4b30e1f7b860",
   "metadata": {},
   "outputs": [],
   "source": [
    "#4) difference between abstraction and encapsulation?\n",
    "#Encapsulation and abstraction are two fundamental principles of object-oriented programming, both aimed at simplifying complex systems by hiding details. Encapsulation focuses on bundling data and the methods that operate on that data within a single unit (like a class) and controlling access to that data, while abstraction focuses on hiding the complex implementation details and exposing only the essential functionalities. \n"
   ]
  },
  {
   "cell_type": "code",
   "execution_count": null,
   "id": "f2349c0f-5657-4d41-a9eb-313b5d9242b2",
   "metadata": {},
   "outputs": [],
   "source": [
    "#5) dunder method?\n",
    "#Dunder methods, also known as magic methods or special methods, are predefined methods in Python that have double underscores (or “dunders”) at the beginning and end of their names. These methods provide a way to define specific behaviors for built-in operations or functionalities in Python classes.\n"
   ]
  },
  {
   "cell_type": "code",
   "execution_count": null,
   "id": "8f0dd82f-8ebb-45a9-9ad6-29f150dcac8a",
   "metadata": {},
   "outputs": [],
   "source": [
    "#6) concept of ineheritance in oop?\n",
    "# Inheritance in Object-Oriented Programming (OOP) is a mechanism where one class (the subclass or derived class) inherits properties and methods from another class (the superclass or parent class). This allows for code reusability, creating hierarchies of classes where specialized classes build upon the functionality of more general ones. "
   ]
  },
  {
   "cell_type": "code",
   "execution_count": null,
   "id": "d056a6c8-d117-4bed-9c48-f46a91bbe208",
   "metadata": {},
   "outputs": [],
   "source": [
    "#7) polymorphism in oop?\n",
    "# Polymorphism, meaning \"many forms\" in Greek, is a core concept in object-oriented programming (OOP) that allows objects to be treated in different ways depending on their type. It enables entities like objects, variables, or methods to have multiple forms, allowing a single interface to represent diverse data types or behaviors. This flexibility makes code more reusable, extensible, and easier to maintain. "
   ]
  },
  {
   "cell_type": "code",
   "execution_count": null,
   "id": "0a465f8c-b59f-4eb7-9efe-522323998cc3",
   "metadata": {},
   "outputs": [],
   "source": [
    "#8) encapulation archieved in python?\n",
    "# Encapsulation is achieved by declaring a class's data members and methods as either private or protected. But in Python, we do not have keywords like public, private, and protected, as in the case of Java. Instead, we achieve this by using single and double underscores.\n",
    "\n"
   ]
  },
  {
   "cell_type": "code",
   "execution_count": null,
   "id": "d2472951-f9d5-47fb-ba7d-7134f2966ca9",
   "metadata": {},
   "outputs": [],
   "source": [
    "#9) constructor in python?\n",
    "# In Python, a constructor is a special method called when an object is created. Its purpose is to assign values to the data members within the class when an object is initialized.\n"
   ]
  },
  {
   "cell_type": "code",
   "execution_count": null,
   "id": "019a5d6d-2a9c-41f6-84d1-6a785896e143",
   "metadata": {},
   "outputs": [],
   "source": [
    "#10)  class and static method ?\n",
    "# Class methods can access and modify class-level attributes. They have access to the class object and can modify class variables or create new instances of the class. Static methods, on the other hand, do not have access to the class object and cannot modify any class-level attributes."
   ]
  },
  {
   "cell_type": "code",
   "execution_count": null,
   "id": "012637d5-e351-4c2f-b127-2f8658b93820",
   "metadata": {},
   "outputs": [],
   "source": [
    "#11) method overloading ?\n",
    "# Method overloading in Python provides a way to handle different types or numbers of inputs using a single method name, making your code more flexible and easier to maintain. While Python does not directly support method overloading like other languages, you can simulate it using default arguments, *args, or **kwargs."
   ]
  },
  {
   "cell_type": "code",
   "execution_count": null,
   "id": "6b8574b0-eccf-4b63-8cba-bfb287e1dba7",
   "metadata": {},
   "outputs": [],
   "source": [
    "# 12) method overriding?\n",
    "# Method overriding is a mechanism in OOP that allows a subclass to provide a specific implementation for a method that is already defined in its superclass. In other words, when a subclass defines a method with the same name and signature as a method in its superclass, it overrides the behavior of that method."
   ]
  },
  {
   "cell_type": "code",
   "execution_count": null,
   "id": "234668bc-47c7-427a-8999-6563529e1bd8",
   "metadata": {},
   "outputs": [],
   "source": [
    "#13) property decorator?\n",
    "# The decorator is a built-in Python decorator that allows you to turn class methods into properties in a way that's both elegant and user-friendly."
   ]
  },
  {
   "cell_type": "code",
   "execution_count": null,
   "id": "fe2ba185-6585-40d6-bcb9-3ea5dbdc8d48",
   "metadata": {},
   "outputs": [],
   "source": [
    "# 14) importance of polymorphism in python?\n",
    "# Because Python allows various classes to have methods with the same name, we can leverage the concept of polymorphism when constructing class methods. We may then generalize calling these methods by not caring about the object we're working with. Then we can write a for loop that iterates through a tuple of items.\n"
   ]
  },
  {
   "cell_type": "code",
   "execution_count": null,
   "id": "9ec03420-4ddf-498c-a48c-41ef4d41041d",
   "metadata": {},
   "outputs": [],
   "source": [
    "# 15) abstract class in python?\n",
    "# In Python, an abstract class is a class that cannot be instantiated on its own and is meant to be subclassed by other classes. Abstract classes are created using the abc (Abstract Base Classes) module.\n"
   ]
  },
  {
   "cell_type": "code",
   "execution_count": null,
   "id": "2400d1d0-e777-4901-90ba-d71c76577e3b",
   "metadata": {},
   "outputs": [],
   "source": [
    "#16) advantages of oop?\n",
    "# Object-oriented programming (OOP) offers numerous advantages for software development. These include modularity, reusability, flexibility, improved organization, and better code maintenance. OOP's principles, like encapsulation, inheritance, and polymorphism, contribute to these benefits. "
   ]
  },
  {
   "cell_type": "code",
   "execution_count": null,
   "id": "0051ecfa-3960-490f-82dc-8bef93e65585",
   "metadata": {},
   "outputs": [],
   "source": [
    "#17) difference between class and instance variables? \n",
    "# Class variables serve as shared attributes across all instances of a class, providing a centralized means for managing data common to the entire class. On the other hand, instance variables encapsulate unique characteristics for each object, maintaining individuality."
   ]
  },
  {
   "cell_type": "code",
   "execution_count": null,
   "id": "9ed4da3a-9bda-4d9c-80a5-625d7a61a567",
   "metadata": {},
   "outputs": [],
   "source": [
    "#18) mutliple inheritance ?\n",
    "# When a class is derived from more than one base class it is called multiple Inheritance. The derived class inherits all the features of the base case.22 Feb 2022\n"
   ]
  },
  {
   "cell_type": "code",
   "execution_count": null,
   "id": "23b30769-c105-4409-878f-d468cc292195",
   "metadata": {},
   "outputs": [],
   "source": [
    "# 19) purpose of  __str__ and __repr__ method?\n",
    "# __str__ is used for informal string representations, such as printing objects for user consumption. __repr__ is used for formal string representations, including debugging, logging, and object inspection."
   ]
  },
  {
   "cell_type": "code",
   "execution_count": null,
   "id": "5c6dcce5-9300-44ad-98e2-961fa252054f",
   "metadata": {},
   "outputs": [],
   "source": [
    "# 20) significance of super() function?\n",
    "#  The super() function is used to refer to the parent class or superclass. It allows you to call methods defined in the superclass from the subclass.\n"
   ]
  },
  {
   "cell_type": "code",
   "execution_count": null,
   "id": "78bbc3bf-61cd-4c3c-bc35-1ddd6a8bc5af",
   "metadata": {},
   "outputs": [],
   "source": [
    "# 21) significance of __del__ method?\n",
    "# The __del__ method is a special method in Python that is called when an object is about to be destroyed. It allows you to define specific cleanup actions that should be taken when an object is garbage collected. This method can be particularly useful for releasing external resources such as file handles, network connections, or database connections that the object may hold.\n",
    "\n"
   ]
  },
  {
   "cell_type": "code",
   "execution_count": null,
   "id": "16653a67-e782-46c8-ac92-6d1a7f9a29dd",
   "metadata": {},
   "outputs": [],
   "source": [
    "# 22) difference between @staticmethod and @classmethod?\n",
    "# The only difference between The only difference between @classmethod and @staticmethod is that in the @classmethod, the class is bound to the method as the first argument (cls). This means that it is easy to access the class, in the method, via the cls argument, instead of having to use the full class name.\n"
   ]
  },
  {
   "cell_type": "code",
   "execution_count": null,
   "id": "219a855b-d20a-4e57-a130-2f9143d44d70",
   "metadata": {},
   "outputs": [],
   "source": [
    "# 23) polymorphism with inheritance?\n",
    "# Inheritance-based polymorphism occurs when a subclass overrides a method from its parent class, providing a specific implementation. This process of re-implementing a method in the child class is known as Method Overriding. Explanation: Class Animal: Acts as the base (parent) class."
   ]
  },
  {
   "cell_type": "code",
   "execution_count": null,
   "id": "d0887726-b9dd-451f-964e-ab2345af8ad4",
   "metadata": {},
   "outputs": [],
   "source": [
    "# 24) chaining method in python?\n",
    "# Method chaining is a powerful technique in Python programming that allows us to call multiple methods on an object in a single, continuous line of code. This approach makes the code cleaner, more readable, and often easier to maintain."
   ]
  },
  {
   "cell_type": "code",
   "execution_count": null,
   "id": "c1ac7097-9584-48ac-82dd-ad994c56476b",
   "metadata": {},
   "outputs": [],
   "source": [
    "# 25) __call__ method in python?\n",
    "# The __call__ method is part of Python build-in methods also called dunder or magic methods because have two prefixes and suffix underscores in the method name. The main idea of __call__ method is to write a class and invoke it like a function. You can refer to it as callable object."
   ]
  },
  {
   "cell_type": "code",
   "execution_count": 3,
   "id": "7c223211-0735-4837-a7ed-add614691158",
   "metadata": {},
   "outputs": [
    {
     "name": "stdout",
     "output_type": "stream",
     "text": [
      "Bark! barks!\n"
     ]
    }
   ],
   "source": [
    "#              practical questions\n",
    "#1) parent class animal ,child class dog\n",
    "# Parent class\n",
    "class Animal:\n",
    "    def __init__(self, name):\n",
    "        self.name = name  # Initialize the name attribute\n",
    "\n",
    "    def speak(self):\n",
    "        pass  # Placeholder method to be overridden by child classes\n",
    "\n",
    "# Child class inheriting from Animal\n",
    "class Dog(Animal):\n",
    "    def speak(self):\n",
    "        return f\"{self.name} barks!\"  # Override the speak method\n",
    "\n",
    "# Creating an instance of Dog\n",
    "dog = Dog(\"Bark!\")\n",
    "print(dog.speak())\n"
   ]
  },
  {
   "cell_type": "code",
   "execution_count": 6,
   "id": "7298df27-ea04-4504-98af-cb4fa8984148",
   "metadata": {},
   "outputs": [
    {
     "name": "stdout",
     "output_type": "stream",
     "text": [
      "Area of circle: 78.53981633974483\n",
      "Area of rectangle: 24\n"
     ]
    }
   ],
   "source": [
    "# 2) abstract class method with circle and rectangle?\n",
    "from abc import ABC, abstractmethod\n",
    "import math\n",
    "\n",
    "class Shape(ABC):\n",
    "    @abstractmethod\n",
    "    def area(self):\n",
    "        pass\n",
    "\n",
    "class Circle(Shape):\n",
    "    def __init__(self, radius):\n",
    "        self.radius = radius\n",
    "\n",
    "    def area(self):\n",
    "        return math.pi * self.radius**2\n",
    "\n",
    "class Rectangle(Shape):\n",
    "    def __init__(self, length, width):\n",
    "        self.length = length\n",
    "        self.width = width\n",
    "\n",
    "    def area(self):\n",
    "        return self.length * self.width\n",
    "\n",
    "# Example usage\n",
    "circle = Circle(5)\n",
    "rectangle = Rectangle(4, 6)\n",
    "\n",
    "print(f\"Area of circle: {circle.area()}\")\n",
    "print(f\"Area of rectangle: {rectangle.area()}\")"
   ]
  },
  {
   "cell_type": "code",
   "execution_count": 7,
   "id": "1c83ec73-15ef-4a83-b9f3-67c84ce2d174",
   "metadata": {},
   "outputs": [
    {
     "name": "stdout",
     "output_type": "stream",
     "text": [
      "Vehicle type: Generic\n",
      "Car type: Sedan\n",
      "Electric Car type: Hatchback, Battery: 75 kWh\n"
     ]
    }
   ],
   "source": [
    "#3) multi level inheritance with class car electriccar?\n",
    "class Vehicle:\n",
    "    def __init__(self, type):\n",
    "        self.type = type\n",
    "\n",
    "class Car(Vehicle):\n",
    "    def __init__(self, type):\n",
    "        super().__init__(type)\n",
    "\n",
    "class ElectricCar(Car):\n",
    "    def __init__(self, type, battery):\n",
    "        super().__init__(type)\n",
    "        self.battery = battery\n",
    "\n",
    "# Example Usage\n",
    "vehicle = Vehicle(\"Generic\")\n",
    "car = Car(\"Sedan\")\n",
    "electric_car = ElectricCar(\"Hatchback\", \"75 kWh\")\n",
    "\n",
    "print(f\"Vehicle type: {vehicle.type}\")\n",
    "print(f\"Car type: {car.type}\")\n",
    "print(f\"Electric Car type: {electric_car.type}, Battery: {electric_car.battery}\")"
   ]
  },
  {
   "cell_type": "code",
   "execution_count": 8,
   "id": "0833dfe7-3411-4b04-be8d-57a2066d0930",
   "metadata": {},
   "outputs": [
    {
     "name": "stdout",
     "output_type": "stream",
     "text": [
      "Sparrows fly in the sky.\n",
      "Penguins cannot fly, they swim.\n"
     ]
    }
   ],
   "source": [
    "# 4) base child bird fly() method  by polymorphism with spArrow and penguin derived class?\n",
    "# Base class\n",
    "class Bird:\n",
    "    def fly(self):\n",
    "        return \"Birds generally fly.\"\n",
    "\n",
    "# Derived class 1\n",
    "class Sparrow(Bird):\n",
    "    def fly(self):\n",
    "        return \"Sparrows fly in the sky.\"\n",
    "\n",
    "# Derived class 2\n",
    "class Penguin(Bird):\n",
    "    def fly(self):\n",
    "        return \"Penguins cannot fly, they swim.\"\n",
    "\n",
    "# Function to demonstrate polymorphism\n",
    "def bird_fly(bird):\n",
    "    return bird.fly()\n",
    "\n",
    "# Creating instances of the derived classes\n",
    "sparrow = Sparrow()\n",
    "penguin = Penguin()\n",
    "\n",
    "# Using the polymorphic method\n",
    "print(bird_fly(sparrow))  # Output: Sparrows fly in the sky.\n",
    "print(bird_fly(penguin))  # Output: Penguins cannot fly, they swim."
   ]
  },
  {
   "cell_type": "code",
   "execution_count": 9,
   "id": "b5f737e0-bb2e-40b0-9907-eadb826885af",
   "metadata": {},
   "outputs": [
    {
     "name": "stdout",
     "output_type": "stream",
     "text": [
      "Deposited $500. New balance: $1500\n",
      "Withdrew $200. New balance: $1300\n",
      "Current balance: $1300\n"
     ]
    }
   ],
   "source": [
    "# 5) with encapsulation creat bank account with private attribyute and methods deposit,withdraw,check balance?\n",
    "class BankAccount:\n",
    "    def __init__(self, initial_balance=0):\n",
    "        # Private attribute to store the balance\n",
    "        self.__balance = initial_balance\n",
    "\n",
    "    def deposit(self, amount):\n",
    "        # Method to deposit money\n",
    "        if amount > 0:\n",
    "            self.__balance += amount\n",
    "            print(f\"Deposited ${amount}. New balance: ${self.__balance}\")\n",
    "        else:\n",
    "            print(\"Deposit amount must be positive.\")\n",
    "\n",
    "    def withdraw(self, amount):\n",
    "        # Method to withdraw money\n",
    "        if 0 < amount <= self.__balance:\n",
    "            self.__balance -= amount\n",
    "            print(f\"Withdrew ${amount}. New balance: ${self.__balance}\")\n",
    "        else:\n",
    "            print(\"Insufficient funds or invalid amount.\")\n",
    "\n",
    "    def check_balance(self):\n",
    "        # Method to check the balance\n",
    "        return self.__balance\n",
    "\n",
    "# Create an instance of the BankAccount class\n",
    "account = BankAccount(1000)\n",
    "\n",
    "# Deposit money\n",
    "account.deposit(500)\n",
    "\n",
    "# Withdraw money\n",
    "account.withdraw(200)\n",
    "\n",
    "# Check balance\n",
    "print(f\"Current balance: ${account.check_balance()}\")\n",
    "\n",
    "# Attempt to access the balance directly (will raise an error)\n",
    "# print(account.__balance) # This will cause an AttributeError"
   ]
  },
  {
   "cell_type": "code",
   "execution_count": null,
   "id": "6b42f916-6cd6-4248-ac85-0f73305980a5",
   "metadata": {},
   "outputs": [],
   "source": [
    "#6) runtime polymorphism with play() method .derive class paino and guitar?\n",
    "class Instrument:\n",
    "    def play(self):\n",
    "        return \"Generic instrument sound\"\n",
    "\n",
    "class Guitar(Instrument):\n",
    "    def play(self):\n",
    "        return \"Strumming the guitar\"\n",
    "\n",
    "class Piano(Instrument):\n",
    "    def play(self):\n",
    "        return \"Playing the piano\"\n",
    "\n",
    "def make_music(instrument):\n",
    "    print(instrument.play())\n",
    "\n",
    "# Example usage\n",
    "instrument = Instrument()\n",
    "guitar = Guitar()\n",
    "piano = Piano()\n",
    "\n",
    "make_music(instrument) # Output: Generic instrument sound\n",
    "make_music(guitar) # Output: Strumming the guitar\n",
    "make_music(piano) # Output: Playing the piano\n",
    "\n",
    "instruments = [instrument, guitar, piano]\n",
    "\n",
    "for instrument in instruments:\n",
    "    make_music(instrument)"
   ]
  },
  {
   "cell_type": "code",
   "execution_count": 1,
   "id": "96647263-3023-4815-a69c-b241d94e5b6e",
   "metadata": {},
   "outputs": [
    {
     "name": "stdout",
     "output_type": "stream",
     "text": [
      "Sum: 8\n",
      "Difference: 2\n"
     ]
    }
   ],
   "source": [
    "#7) methoperations with addition and subtraction method ?\n",
    "class mathoperations:\n",
    "    @classmethod\n",
    "    def add_numbers(cls, num1, num2):\n",
    "        return num1 + num2\n",
    "\n",
    "    @staticmethod\n",
    "    def subtract_numbers(num1, num2):\n",
    "        return num1 - num2\n",
    "        # Using class method\n",
    "sum_result = mathoperations.add_numbers(5, 3)\n",
    "print(f\"Sum: {sum_result}\")  # Output: Sum: 8\n",
    "\n",
    "# Using static method\n",
    "difference_result = mathoperations.subtract_numbers(5, 3)\n",
    "print(f\"Difference: {difference_result}\")  # Output: Difference: 2"
   ]
  },
  {
   "cell_type": "code",
   "execution_count": 2,
   "id": "a1c66852-fbd2-4846-b2b6-a4164ece5534",
   "metadata": {},
   "outputs": [
    {
     "name": "stdout",
     "output_type": "stream",
     "text": [
      "Total number of Person objects: 3\n"
     ]
    }
   ],
   "source": [
    "#8) class person with class method for total numbers of person?\n",
    "class Person:\n",
    "    # Class-level variable to store the count of Person objects\n",
    "    person_count = 0\n",
    "\n",
    "    def __init__(self, name):\n",
    "        self.name = name\n",
    "        Person.person_count += 1  # Increment the counter when a new Person is created\n",
    "\n",
    "    @classmethod\n",
    "    def get_person_count(cls):\n",
    "        \"\"\"\n",
    "        A class method that returns the total number of Person objects.\n",
    "        \"\"\"\n",
    "        return cls.person_count\n",
    "\n",
    "# Create some Person objects\n",
    "person1 = Person(\"Alice\")\n",
    "person2 = Person(\"Bob\")\n",
    "person3 = Person(\"Charlie\")\n",
    "\n",
    "# Get the total number of Person objects\n",
    "count = Person.get_person_count()\n",
    "print(f\"Total number of Person objects: {count}\")  # Output: 3"
   ]
  },
  {
   "cell_type": "code",
   "execution_count": 5,
   "id": "5609bcff-c496-40cb-8d43-b13aa85b61aa",
   "metadata": {},
   "outputs": [
    {
     "name": "stdout",
     "output_type": "stream",
     "text": [
      "1/2\n"
     ]
    }
   ],
   "source": [
    "# 9) fraction with numerator and denominator?\n",
    "class Fraction:\n",
    "    def __init__(self, numerator, denominator):\n",
    "        \"\"\"\n",
    "        Initializes a Fraction object.\n",
    "\n",
    "        Args:\n",
    "            numerator: The numerator of the fraction (an integer).\n",
    "            denominator: The denominator of the fraction (an integer).\n",
    "        \"\"\"\n",
    "        self.numerator = numerator\n",
    "        self.denominator = denominator\n",
    "\n",
    "    def __str__(self):\n",
    "        \"\"\"\n",
    "        Returns a string representation of the fraction in the format 'numerator/denominator'.\n",
    "\n",
    "        Returns:\n",
    "            A string representing the fraction.\n",
    "        \"\"\"\n",
    "        return f\"{self.numerator}/{self.denominator}\"\n",
    "\n",
    "# Example usage\n",
    "fraction1 = Fraction(1, 2)  # Represents 1/2\n",
    "print(fraction1)  # Output: 1/2"
   ]
  },
  {
   "cell_type": "code",
   "execution_count": 6,
   "id": "a0829a4c-d74d-462e-a71c-30b8916cc8fa",
   "metadata": {},
   "outputs": [
    {
     "name": "stdout",
     "output_type": "stream",
     "text": [
      "Vector 1: (2, 3)\n",
      "Vector 2: (4, 5)\n",
      "Vector 1 + Vector 2: (6, 8)\n"
     ]
    }
   ],
   "source": [
    "# 10) opration overloading with class vector ?\n",
    "class Vector:\n",
    "    def __init__(self, x, y):\n",
    "        self.x = x\n",
    "        self.y = y\n",
    "\n",
    "    def __add__(self, other):\n",
    "        \"\"\"Overrides the '+' operator to add two vectors.\"\"\"\n",
    "        return Vector(self.x + other.x, self.y + other.y)\n",
    "\n",
    "    def __str__(self):\n",
    "      return f\"({self.x}, {self.y})\"\n",
    "\n",
    "# Example usage\n",
    "v1 = Vector(2, 3)\n",
    "v2 = Vector(4, 5)\n",
    "v3 = v1 + v2  # Uses the overloaded '+' operator\n",
    "\n",
    "print(f\"Vector 1: {v1}\")\n",
    "print(f\"Vector 2: {v2}\")\n",
    "print(f\"Vector 1 + Vector 2: {v3}\")"
   ]
  },
  {
   "cell_type": "code",
   "execution_count": 7,
   "id": "01a2c617-3bb5-42b8-a64f-854c45b50c17",
   "metadata": {},
   "outputs": [
    {
     "name": "stdout",
     "output_type": "stream",
     "text": [
      "Hello, my name is Alice and I am 30 years old.\n",
      "Hello, my name is Bob and I am 25 years old.\n"
     ]
    }
   ],
   "source": [
    "# 11)class with name and age attributes with greet() method?\n",
    "class Person:\n",
    "    def __init__(self, name, age):\n",
    "        self.name = name\n",
    "        self.age = age\n",
    "\n",
    "    def greet(self):\n",
    "        print(f\"Hello, my name is {self.name} and I am {self.age} years old.\")\n",
    "\n",
    "# Example usage:\n",
    "person1 = Person(\"Alice\", 30)\n",
    "person1.greet()  # Output: Hello, my name is Alice and I am 30 years old.\n",
    "\n",
    "person2 = Person(\"Bob\", 25)\n",
    "person2.greet()  # Output: Hello, my name is Bob and I am 25 years old."
   ]
  },
  {
   "cell_type": "code",
   "execution_count": 8,
   "id": "cbd6335a-bbe0-490b-9c25-22a106fa8e01",
   "metadata": {},
   "outputs": [
    {
     "name": "stdout",
     "output_type": "stream",
     "text": [
      "The average grade of Alice is: 86.25\n"
     ]
    }
   ],
   "source": [
    "#12) class students with attribute name and grade,create average_grade()?\n",
    "class Student:\n",
    "    def __init__(self, name, grades):\n",
    "        self.name = name\n",
    "        self.grades = grades\n",
    "\n",
    "    def average_grade(self):\n",
    "        if len(self.grades) == 0:\n",
    "            return 0  # Return 0 if there are no grades\n",
    "        return sum(self.grades) / len(self.grades)\n",
    "\n",
    "# Example usage\n",
    "student1 = Student(\"Alice\", [85, 92, 78, 90])\n",
    "average = student1.average_grade()\n",
    "print(f\"The average grade of {student1.name} is: {average}\")"
   ]
  },
  {
   "cell_type": "code",
   "execution_count": 9,
   "id": "f3cde712-f3da-494c-bdbe-6172f719e809",
   "metadata": {},
   "outputs": [
    {
     "name": "stdout",
     "output_type": "stream",
     "text": [
      "The area of the rectangle is: 50\n"
     ]
    }
   ],
   "source": [
    "#13) class rectangle with set demension and area?\n",
    "class Rectangle:\n",
    "    def __init__(self):\n",
    "        self.length = 0\n",
    "        self.width = 0\n",
    "\n",
    "    def set_dimensions(self, length, width):\n",
    "        \"\"\"Sets the dimensions of the rectangle.\"\"\"\n",
    "        self.length = length\n",
    "        self.width = width\n",
    "\n",
    "    def calculate_area(self):\n",
    "        \"\"\"Calculates and returns the area of the rectangle.\"\"\"\n",
    "        return self.length * self.width\n",
    "\n",
    "# Example usage:\n",
    "rectangle = Rectangle()\n",
    "rectangle.set_dimensions(5, 10)\n",
    "area = rectangle.calculate_area()\n",
    "print(f\"The area of the rectangle is: {area}\")"
   ]
  },
  {
   "cell_type": "code",
   "execution_count": 10,
   "id": "f1b6c826-23f2-4ab5-9346-9b430a07cdd8",
   "metadata": {},
   "outputs": [
    {
     "name": "stdout",
     "output_type": "stream",
     "text": [
      "Employee Salary: 800\n",
      "Manager Salary: 880.0\n"
     ]
    }
   ],
   "source": [
    "# 14)  method calculate salary ?\n",
    "class Employee:\n",
    "    def __init__(self, hourly_rate):\n",
    "        self.hourly_rate = hourly_rate\n",
    "\n",
    "    def calculate_salary(self, hours_worked):\n",
    "        return hours_worked * self.hourly_rate\n",
    "\n",
    "\n",
    "class Manager(Employee):\n",
    "    def __init__(self, hourly_rate, bonus_rate):\n",
    "        super().__init__(hourly_rate)\n",
    "        self.bonus_rate = bonus_rate\n",
    "\n",
    "    def calculate_salary(self, hours_worked):\n",
    "        base_salary = super().calculate_salary(hours_worked)\n",
    "        bonus = base_salary * self.bonus_rate\n",
    "        return base_salary + bonus\n",
    "\n",
    "# Example Usage:\n",
    "employee = Employee(hourly_rate=20)\n",
    "salary = employee.calculate_salary(hours_worked=40)\n",
    "print(f\"Employee Salary: {salary}\")\n",
    "\n",
    "manager = Manager(hourly_rate=20, bonus_rate=0.1)\n",
    "manager_salary = manager.calculate_salary(hours_worked=40)\n",
    "print(f\"Manager Salary: {manager_salary}\")"
   ]
  },
  {
   "cell_type": "code",
   "execution_count": 11,
   "id": "1b9e9a5c-0b25-477c-825e-55e3b751afad",
   "metadata": {},
   "outputs": [
    {
     "name": "stdout",
     "output_type": "stream",
     "text": [
      "The total price for Laptop is: $2400\n"
     ]
    }
   ],
   "source": [
    "#15) clasproduct with attributes name,price,quantity and cacluate total price?\n",
    "class Product:\n",
    "    def __init__(self, name, price, quantity):\n",
    "        self.name = name\n",
    "        self.price = price\n",
    "        self.quantity = quantity\n",
    "\n",
    "    def total_price(self):\n",
    "        \"\"\"Calculates the total price of a product based on its price and quantity.\"\"\"\n",
    "        return self.price * self.quantity\n",
    "\n",
    "# Example usage:\n",
    "product1 = Product(\"Laptop\", 1200, 2)\n",
    "total_cost = product1.total_price()\n",
    "print(f\"The total price for {product1.name} is: ${total_cost}\")"
   ]
  },
  {
   "cell_type": "code",
   "execution_count": 15,
   "id": "a1aa8eb7-8006-4461-941f-819f3f8d8815",
   "metadata": {},
   "outputs": [
    {
     "ename": "NameError",
     "evalue": "name 'abc' is not defined",
     "output_type": "error",
     "traceback": [
      "\u001b[31m---------------------------------------------------------------------------\u001b[39m",
      "\u001b[31mNameError\u001b[39m                                 Traceback (most recent call last)",
      "\u001b[36mCell\u001b[39m\u001b[36m \u001b[39m\u001b[32mIn[15]\u001b[39m\u001b[32m, line 3\u001b[39m\n\u001b[32m      1\u001b[39m \u001b[38;5;66;03m# 16) animal class with cow and sheep?from abc import ABC, abstractmethod\u001b[39;00m\n\u001b[32m----> \u001b[39m\u001b[32m3\u001b[39m \u001b[38;5;28;01mclass\u001b[39;00m\u001b[38;5;250m \u001b[39m\u001b[34;01mAnimal\u001b[39;00m(\u001b[43mabc\u001b[49m):\n\u001b[32m      4\u001b[39m     \u001b[38;5;129m@abstractmethod\u001b[39m\n\u001b[32m      5\u001b[39m     \u001b[38;5;28;01mdef\u001b[39;00m\u001b[38;5;250m \u001b[39m\u001b[34msound\u001b[39m(\u001b[38;5;28mself\u001b[39m):\n\u001b[32m      6\u001b[39m         \u001b[38;5;28;01mpass\u001b[39;00m\n",
      "\u001b[31mNameError\u001b[39m: name 'abc' is not defined"
     ]
    }
   ],
   "source": [
    "# 16) animal class with cow and sheep?from abc import ABC, abstractmethod\n",
    "\n",
    "class Animal(ABC):\n",
    "    @abstractmethod\n",
    "    def sound(self):\n",
    "        pass\n",
    "\n",
    "class Cow(Animal):\n",
    "    def sound(self):\n",
    "        return \"Moo\"\n",
    "\n",
    "class sheep(Animal):\n",
    "    def sound(self):\n",
    "        return \"ummmm\"\n",
    "\n",
    "# Example usage:\n",
    "cow = Cow()\n",
    "print(f\"Cow sound: {cow.sound()}\")\n",
    "\n",
    "sheep = sheep()\n",
    "print(f\"sheep sound: {sheep.sound()}\")"
   ]
  },
  {
   "cell_type": "code",
   "execution_count": null,
   "id": "21c8760a-6454-4099-80b0-5c4207f1a69a",
   "metadata": {},
   "outputs": [],
   "source": [
    "# 17)class book \n",
    "class book:\n",
    "    def __int__(self, title, author):\n",
    "        self.title = title\n",
    "        self.author = author\n",
    "        mindfullness = book(title=\"the power of now\",author= \"Eckhart tolle\")\n",
    "        dreadnought = book(title=:\"dreadnought\",author=\"april daniels\")\n",
    "    "
   ]
  },
  {
   "cell_type": "code",
   "execution_count": null,
   "id": "f521d518-3fa2-4eb0-90e9-35fca5ff173b",
   "metadata": {},
   "outputs": [],
   "source": [
    "#18) class house and address and price attributes?\n",
    "class House:\n",
    "    def __init__(self, address, price):\n",
    "        self.address = address\n",
    "        self.price = price\n",
    "\n",
    "class Mansion(House):\n",
    "    def __init__(self, address, price, number_of_rooms):\n",
    "        super().__init__(address, price)\n",
    "        self.number_of_rooms = number_of_rooms"
   ]
  }
 ],
 "metadata": {
  "kernelspec": {
   "display_name": "Python 3 (ipykernel)",
   "language": "python",
   "name": "python3"
  },
  "language_info": {
   "codemirror_mode": {
    "name": "ipython",
    "version": 3
   },
   "file_extension": ".py",
   "mimetype": "text/x-python",
   "name": "python",
   "nbconvert_exporter": "python",
   "pygments_lexer": "ipython3",
   "version": "3.13.3"
  }
 },
 "nbformat": 4,
 "nbformat_minor": 5
}
